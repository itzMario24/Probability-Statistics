{
 "cells": [
  {
   "cell_type": "code",
   "execution_count": null,
   "metadata": {},
   "outputs": [],
   "source": [
    "#VARIABLES\n",
    "i = 0\n",
    "n = 1\n",
    "datas = 0\n",
    "listD = []\n",
    "sumD = 0\n",
    "repeat = 0\n",
    "mode=[]\n",
    "#IN\n",
    "for k in range(0,3):\n",
    "    d = float(input(f\"Introduce data{n}:\"))                \n",
    "    listD.append(d)\n",
    "    sumD += d\n",
    "    n += 1\n",
    "    datas += 1\n",
    "while i < 1:\n",
    "    print(\"\\n Write 0 to stop process\")\n",
    "    if d != 0:\n",
    "        d = float(input(f\"Introduce data{n}:\"))\n",
    "        listD.append(d)\n",
    "        sumD += d\n",
    "        datas += 1\n",
    "        n+=1\n",
    "    else: i += 1\n",
    "mean = sumD / datas #MEAN                                                                   \n",
    "#MODE\n",
    "for j in listD:                                                                          \n",
    "    app = listD.count(j)                                                             \n",
    "    if app > repeat:                                                       \n",
    "        repeat = app                                                       \n",
    "                                                                             \n",
    "for j in listD:                                                                              \n",
    "    app = listD.count(j)                                                             \n",
    "    if app == repeat and j not in mode:                                   \n",
    "        mode.append(j)\n",
    "#DEVIATION        \n",
    "listF = [(listD[p]-mean)**2\n",
    "                   for p in range(len(listD))]\n",
    "sumaD=sum(listF)\n",
    "s2=sumD/(datas-1)\n",
    "s=s2**.5\n",
    "#OUT\n",
    "q=int (input(\" What do you need to calcultae ? \\n 1: mode \\n 2: mean \\n 3: Standard deviation \\n\"))\n",
    "if q==1:\n",
    "    print(f\"\\n Mode:{mode}\") #OUT MODE\n",
    "elif q==2:\n",
    "    print(f\"\\n Mean:{mean}\") #OUT MEAN\n",
    "else:\n",
    "    print(f\"\\n Standard deviation:{s}\") #OUT STDDEV"
   ]
  }
 ],
 "metadata": {
  "kernelspec": {
   "display_name": "Python 3",
   "language": "python",
   "name": "python3"
  },
  "language_info": {
   "codemirror_mode": {
    "name": "ipython",
    "version": 3
   },
   "file_extension": ".py",
   "mimetype": "text/x-python",
   "name": "python",
   "nbconvert_exporter": "python",
   "pygments_lexer": "ipython3",
   "version": "3.7.4"
  }
 },
 "nbformat": 4,
 "nbformat_minor": 2
}
