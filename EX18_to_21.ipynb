{
 "cells": [
  {
   "cell_type": "markdown",
   "metadata": {},
   "source": [
    "# EXERCISES 18 TO 21"
   ]
  },
  {
   "cell_type": "markdown",
   "metadata": {},
   "source": [
    "## TEAM \n",
    "\n",
    "- Constantino Arteaga Rosa Isela\n",
    "- Perez Gonzalez Jessica Sarahi\n",
    "- Roman Olivares Mario Guadalupe"
   ]
  },
  {
   "cell_type": "markdown",
   "metadata": {},
   "source": [
    "# EXERCISE 18 Names, Variables, Code, Functions"
   ]
  },
  {
   "cell_type": "code",
   "execution_count": 7,
   "metadata": {},
   "outputs": [
    {
     "name": "stdout",
     "output_type": "stream",
     "text": [
      "name1: Eduardo, name2: Juan\n",
      "name1: Eduardo, name2: Juan\n",
      "name1: First!\n",
      "I got nothin'.\n"
     ]
    }
   ],
   "source": [
    "def print_two(*names):\n",
    "    name1, name2 = names\n",
    "    print (f\"name1: {name1}, name2: {name2}\")\n",
    "\n",
    "def print_two_again(name1, name2):\n",
    "    print (f\"name1: {name1}, name2: {name2}\")\n",
    "    \n",
    "def print_one(name1):\n",
    "    print (f\"name1: {name1}\")\n",
    "    \n",
    "def print_none():\n",
    "    print(\"I got nothin'.\")\n",
    "    \n",
    "    \n",
    "print_two(\"Eduardo\" , \"Juan\")\n",
    "print_two_again(\"Eduardo\",\"Juan\")\n",
    "print_one(\"First!\")\n",
    "print_none()\n",
    "    \n"
   ]
  },
  {
   "cell_type": "markdown",
   "metadata": {},
   "source": [
    "In this programm print_two is name of the function, inside parentheses the namas but in the begin a *. The programm print the names that you introduce in a function, but if you want that programm print only data you need call the name in the parentheses."
   ]
  },
  {
   "cell_type": "markdown",
   "metadata": {},
   "source": [
    "# EXERCISE 19 FUNCTIONS AND VARIABLES"
   ]
  },
  {
   "cell_type": "code",
   "execution_count": 8,
   "metadata": {},
   "outputs": [
    {
     "name": "stdout",
     "output_type": "stream",
     "text": [
      "We can just give the function numbers directly:\n"
     ]
    },
    {
     "ename": "NameError",
     "evalue": "name 'screwdriver_count' is not defined",
     "output_type": "error",
     "traceback": [
      "\u001b[1;31m---------------------------------------------------------------------------\u001b[0m",
      "\u001b[1;31mNameError\u001b[0m                                 Traceback (most recent call last)",
      "\u001b[1;32m<ipython-input-8-49cbf3042fec>\u001b[0m in \u001b[0;36m<module>\u001b[1;34m\u001b[0m\n\u001b[0;32m      6\u001b[0m \u001b[1;33m\u001b[0m\u001b[0m\n\u001b[0;32m      7\u001b[0m \u001b[0mprint\u001b[0m \u001b[1;33m(\u001b[0m\u001b[1;34m\"We can just give the function numbers directly:\"\u001b[0m\u001b[1;33m)\u001b[0m\u001b[1;33m\u001b[0m\u001b[1;33m\u001b[0m\u001b[0m\n\u001b[1;32m----> 8\u001b[1;33m \u001b[0mscrewdriver_and_screws\u001b[0m\u001b[1;33m(\u001b[0m\u001b[1;36m5\u001b[0m\u001b[1;33m,\u001b[0m\u001b[1;36m30\u001b[0m\u001b[1;33m)\u001b[0m\u001b[1;33m\u001b[0m\u001b[1;33m\u001b[0m\u001b[0m\n\u001b[0m\u001b[0;32m      9\u001b[0m \u001b[1;33m\u001b[0m\u001b[0m\n\u001b[0;32m     10\u001b[0m \u001b[0mprint\u001b[0m \u001b[1;33m(\u001b[0m\u001b[1;34m\"OR, we can use variables from our script:\"\u001b[0m\u001b[1;33m)\u001b[0m\u001b[1;33m\u001b[0m\u001b[1;33m\u001b[0m\u001b[0m\n",
      "\u001b[1;32m<ipython-input-8-49cbf3042fec>\u001b[0m in \u001b[0;36mscrewdriver_and_screws\u001b[1;34m(screwdriver_Count, boxes_of_screws)\u001b[0m\n\u001b[0;32m      1\u001b[0m \u001b[1;32mdef\u001b[0m \u001b[0mscrewdriver_and_screws\u001b[0m\u001b[1;33m(\u001b[0m\u001b[0mscrewdriver_Count\u001b[0m\u001b[1;33m,\u001b[0m \u001b[0mboxes_of_screws\u001b[0m\u001b[1;33m)\u001b[0m\u001b[1;33m:\u001b[0m\u001b[1;33m\u001b[0m\u001b[1;33m\u001b[0m\u001b[0m\n\u001b[1;32m----> 2\u001b[1;33m     \u001b[0mprint\u001b[0m\u001b[1;33m(\u001b[0m\u001b[1;34mf\"You have {screwdriver_count} screwdrivers!\"\u001b[0m\u001b[1;33m)\u001b[0m\u001b[1;33m\u001b[0m\u001b[1;33m\u001b[0m\u001b[0m\n\u001b[0m\u001b[0;32m      3\u001b[0m     \u001b[0mprint\u001b[0m\u001b[1;33m(\u001b[0m\u001b[1;34mf\"You have {boxes_of_screws} boxes of screws!\"\u001b[0m\u001b[1;33m)\u001b[0m\u001b[1;33m\u001b[0m\u001b[1;33m\u001b[0m\u001b[0m\n\u001b[0;32m      4\u001b[0m     \u001b[0mprint\u001b[0m\u001b[1;33m(\u001b[0m\u001b[1;34m\"Man that's enough to assemble the bookseller!\"\u001b[0m\u001b[1;33m)\u001b[0m\u001b[1;33m\u001b[0m\u001b[1;33m\u001b[0m\u001b[0m\n\u001b[0;32m      5\u001b[0m     \u001b[0mprint\u001b[0m\u001b[1;33m(\u001b[0m\u001b[1;34m\"Get a space.\\n\"\u001b[0m\u001b[1;33m)\u001b[0m\u001b[1;33m\u001b[0m\u001b[1;33m\u001b[0m\u001b[0m\n",
      "\u001b[1;31mNameError\u001b[0m: name 'screwdriver_count' is not defined"
     ]
    }
   ],
   "source": [
    "def screwdriver_and_screws(screwdriver_Count, boxes_of_screws):\n",
    "    print(f\"You have {screwdriver_count} screwdrivers!\")\n",
    "    print(f\"You have {boxes_of_screws} boxes of screws!\")\n",
    "    print(\"Man that's enough to assemble the bookseller!\")\n",
    "    print(\"Get a space.\\n\")\n",
    "    \n",
    "print (\"We can just give the function numbers directly:\")\n",
    "screwdriver_and_screws(5,30)\n",
    "\n",
    "print (\"OR, we can use variables from our script:\")\n",
    "amount_of_screwdriver = 10\n",
    "amount_of_screws = 30\n",
    "\n",
    "screwdriver_and_screws(screwdriver_Count, boxes_of_screws)\n",
    "\n",
    "print (\"We can even do math inside too:\")\n",
    "screwdriver_and_screws(5 + 30, 15 + 25)\n",
    "\n",
    "print (\"And we can combine the two, variables and math:\")\n",
    "screwdriver_and_screws(screwdriver_Count + 100, boxes_of_screws + 1000)"
   ]
  },
  {
   "cell_type": "markdown",
   "metadata": {},
   "source": [
    "In this programm you can do mathematic operations, a coombination of the variables and mathematic operations inside the function."
   ]
  },
  {
   "cell_type": "markdown",
   "metadata": {},
   "source": [
    "# EXERCISE 20 FUNCTIONS AND FILES"
   ]
  },
  {
   "cell_type": "code",
   "execution_count": null,
   "metadata": {},
   "outputs": [],
   "source": [
    "from sys import argv\n",
    "\n",
    "book, input_file = argv\n",
    "\n",
    "def print_all(f):\n",
    "    print(f.read())\n",
    "    \n",
    "def sum_up(f):\n",
    "    f.seek(0)\n",
    "\n",
    "def print_a_line(line_count, f):\n",
    "    print(line_count, f.readline())\n",
    "    \n",
    "current_file = open(input_file)\n",
    "\n",
    "print (\"First let's print the whole file:\\n\")\n",
    "\n",
    "print_all(current_file)\n",
    "\n",
    "print(\"Now let's sum up, kind of like a tape.\")\n",
    "\n",
    "sum_up(current_file)\n",
    "\n",
    "print(\"Let's print five lines:\")\n",
    "\n",
    "curren_line = 1\n",
    "print_a__line (current_line, current_file)\n",
    "\n",
    "curren_line = curren_line + 1\n",
    "print_a__line (current_line, current_file)\n",
    "\n",
    "curren_line = curren_line + 1\n",
    "print_a__line (current_line, current_file)\n",
    "\n",
    "curren_line = curren_line + 1\n",
    "print_a__line (current_line, current_file)\n",
    "\n",
    "curren_line = curren_line + 1\n",
    "print_a__line (current_line, current_file)"
   ]
  },
  {
   "cell_type": "markdown",
   "metadata": {},
   "source": [
    "This programm help you when you need print in screen any document. The functions help you when you need to print only certenly number of lines."
   ]
  },
  {
   "cell_type": "markdown",
   "metadata": {},
   "source": [
    "# EXERCISE 21 FUNCTIONS CAN RETURN SOMETHING"
   ]
  },
  {
   "cell_type": "code",
   "execution_count": 10,
   "metadata": {},
   "outputs": [
    {
     "name": "stdout",
     "output_type": "stream",
     "text": [
      "Let's dp some math just fuctions!\n",
      "ADDING 1500 + 1860\n",
      "SUBTRACTION 30 - 8\n",
      "MULTIPLYING 350 * 4\n",
      "DIVING 13500 / 5\n",
      "Salary: 3360, Working Days: 22, Bonus: 1400, Sale per Employee: 2700.0\n",
      "Here is a puzzle.\n",
      "DIVING 2700.0 / 2\n",
      "MULTIPLYING 1400 * 1350.0\n",
      "SUBTRACTION 22 - 1890000.0\n",
      "ADDING 3360 + -1889978.0\n",
      "That becomes:  -1886618.0 Can you do it by hand?\n"
     ]
    }
   ],
   "source": [
    "def addition(a, b):\n",
    "    print (f\"ADDING {a} + {b}\")\n",
    "    return a + b\n",
    "\n",
    "def subtraction(a, b):\n",
    "    print (f\"SUBTRACTION {a} - {b}\")\n",
    "    return a - b\n",
    "    \n",
    "def multiplication(a, b):\n",
    "    print (f\"MULTIPLYING {a} * {b}\")\n",
    "    return a * b\n",
    "    \n",
    "def division(a, b):\n",
    "    print (f\"DIVING {a} / {b}\")\n",
    "    return a / b\n",
    "\n",
    "print(\"Let's dp some math just fuctions!\")\n",
    "\n",
    "salary = addition(1500, 1860)\n",
    "working_days = subtraction(30, 8)\n",
    "bonus = multiplication(350, 4)\n",
    "sale_per_employee = division(13500, 5)\n",
    "\n",
    "print(f\"Salary: {salary}, Working Days: {working_days}, Bonus: {bonus}, Sale per Employee: {sale_per_employee}\")\n",
    "\n",
    "print(\"Here is a puzzle.\")\n",
    "\n",
    "what = addition(salary, subtraction(working_days, multiplication(bonus, division(sale_per_employee, 2))))\n",
    "\n",
    "print(\"That becomes: \", what, \"Can you do it by hand?\")"
   ]
  },
  {
   "cell_type": "markdown",
   "metadata": {},
   "source": [
    "In this programm you can add, subtract, multiply and divide in a function. The user define the arguments."
   ]
  }
 ],
 "metadata": {
  "kernelspec": {
   "display_name": "Python 3",
   "language": "python",
   "name": "python3"
  },
  "language_info": {
   "codemirror_mode": {
    "name": "ipython",
    "version": 3
   },
   "file_extension": ".py",
   "mimetype": "text/x-python",
   "name": "python",
   "nbconvert_exporter": "python",
   "pygments_lexer": "ipython3",
   "version": "3.7.3"
  }
 },
 "nbformat": 4,
 "nbformat_minor": 2
}
