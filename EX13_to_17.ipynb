{
 "cells": [
  {
   "cell_type": "markdown",
   "metadata": {},
   "source": [
    "<font color=\"red\"> <H1> EXERCISES 13 TO 17 </H1> </font>"
   ]
  },
  {
   "cell_type": "markdown",
   "metadata": {},
   "source": [
    "## TEAM\n",
    "-Constantino Arteaga Rosa Isela \\n",
    "-Perez Gonzalez Jessica Sarahi \\n",
    "-Roman Olivares Mario Guadalupe \\n",
    "\\\n",
    "P.D. We are three because the group have an odd number of students."
   ]
  },
  {
   "cell_type": "markdown",
   "metadata": {},
   "source": [
    "<font color=\"red\"> <H1> EXERCISE 13 - Parameters, Unpacking, Variables </H1> </font>\n",
    "<font color=\"blue\"> <H2> CODE </H2> </font>"
   ]
  },
  {
   "cell_type": "code",
   "execution_count": 11,
   "metadata": {},
   "outputs": [
    {
     "name": "stdout",
     "output_type": "stream",
     "text": [
      "The script is called: C:\\ProgramData\\Anaconda3\\lib\\site-packages\\ipykernel_launcher.py\n",
      "Your first brand is: -f\n",
      "Your second brand is: C:\\Users\\pumar\\AppData\\Roaming\\jupyter\\runtime\\kernel-f7dbea10-da55-4920-83a7-05d1b00b63df.json\n"
     ]
    }
   ],
   "source": [
    "import sys\n",
    "from sys import argv\n",
    "brands, huawei, samsung, = argv\n",
    "\n",
    "print(\"The script is called:\", brands)\n",
    "print(\"Your first brand is:\", huawei)\n",
    "print(\"Your second brand is:\", samsung)"
   ]
  },
  {
   "cell_type": "markdown",
   "metadata": {},
   "source": [
    "## COMMENTS OR DESCRIPTION\n",
    "In this programm is imported the module \"sys\" and after is imported from this module the function argv this is a list of strings that represent the arguments (separated by spaces) on the command line.\n",
    "In the case of this programm is created a list of strings or script that have the name brand and in this list exist two variables or arguments that have the name \"huawei\" and \"samsung\"."
   ]
  },
  {
   "cell_type": "markdown",
   "metadata": {},
   "source": [
    "<font color=\"red\"> <H1> EXERCISE 14 - Prompting and Passing </H1> </font> \n",
    "<font color=\"blue\"> <H2> CODE </H2> </font>"
   ]
  },
  {
   "cell_type": "code",
   "execution_count": 12,
   "metadata": {},
   "outputs": [
    {
     "name": "stdout",
     "output_type": "stream",
     "text": [
      "Hi -f, I'm the C:\\ProgramData\\Anaconda3\\lib\\site-packages\\ipykernel_launcher.py script.\n",
      "I'd like to ask you a few questions.\n",
      "Do you like this program?\n",
      "> yes\n",
      "Where do you study -f?\n",
      "> UTA\n",
      "What brand of computer do you have?\n",
      "> MSI\n",
      "\n",
      "Alright, so you said yes about like you this program.\n",
      "You study in UTA. Not sure where and what is that, maybe is like a ranch?.\n",
      "And you have a MSI computer. Maybe a good brand election, i'm not sure.\n",
      "\n"
     ]
    }
   ],
   "source": [
    "from sys import argv\n",
    "\n",
    "script, user_name, _ = argv\n",
    "prompt = '> '\n",
    "print(f\"Hi {user_name}, I'm the {script} script.\")\n",
    "print(\"I'd like to ask you a few questions.\")\n",
    "print(f\"Do you like this program?\")\n",
    "likes = input(prompt)\n",
    "\n",
    "print(f\"Where do you study {user_name}?\")\n",
    "lives = input(prompt)\n",
    "\n",
    "print(\"What brand of computer do you have?\")\n",
    "computer = input(prompt)\n",
    "\n",
    "print(f\"\"\"\n",
    "Alright, so you said {likes} about like you this program.\n",
    "You study in {lives}. Not sure where and what is that, maybe is like a ranch?.\n",
    "And you have a {computer} computer. Maybe a good brand election, i'm not sure.\n",
    "\"\"\")"
   ]
  },
  {
   "cell_type": "markdown",
   "metadata": {},
   "source": [
    "## COMMENTS OR DESCRIPTION\n",
    "In this programm is used again the module sys and imported the function argv that contain the name of the script and the use name the programm anser about some personal information, where do you study, if you like the programm and about the brand of your computer, this answers are saved in a variable for each of them.\n",
    "After answer that questions the programm print an output that is your information but applied to a text."
   ]
  },
  {
   "cell_type": "markdown",
   "metadata": {},
   "source": [
    "<font color=\"red\"> <H1> EXERCISE 15 - Reading Files </H1> </font> \n",
    "<font color=\"blue\"> <H2> CODE </H2> </font>"
   ]
  },
  {
   "cell_type": "code",
   "execution_count": 18,
   "metadata": {},
   "outputs": [
    {
     "ename": "FileNotFoundError",
     "evalue": "[Errno 2] No such file or directory: '-f'",
     "output_type": "error",
     "traceback": [
      "\u001b[1;31m---------------------------------------------------------------------------\u001b[0m",
      "\u001b[1;31mFileNotFoundError\u001b[0m                         Traceback (most recent call last)",
      "\u001b[1;32m<ipython-input-18-d938def490a5>\u001b[0m in \u001b[0;36m<module>\u001b[1;34m\u001b[0m\n\u001b[0;32m      3\u001b[0m \u001b[0mscript\u001b[0m\u001b[1;33m,\u001b[0m \u001b[0mfilename\u001b[0m\u001b[1;33m,\u001b[0m \u001b[0m_\u001b[0m \u001b[1;33m=\u001b[0m \u001b[0margv\u001b[0m\u001b[1;33m\u001b[0m\u001b[1;33m\u001b[0m\u001b[0m\n\u001b[0;32m      4\u001b[0m \u001b[1;33m\u001b[0m\u001b[0m\n\u001b[1;32m----> 5\u001b[1;33m \u001b[0mtxt\u001b[0m \u001b[1;33m=\u001b[0m \u001b[0mopen\u001b[0m\u001b[1;33m(\u001b[0m\u001b[0mfilename\u001b[0m\u001b[1;33m)\u001b[0m\u001b[1;33m\u001b[0m\u001b[1;33m\u001b[0m\u001b[0m\n\u001b[0m\u001b[0;32m      6\u001b[0m \u001b[1;33m\u001b[0m\u001b[0m\n\u001b[0;32m      7\u001b[0m \u001b[0mprint\u001b[0m\u001b[1;33m(\u001b[0m\u001b[1;34mf\"Here's your file {filename}:\"\u001b[0m\u001b[1;33m)\u001b[0m\u001b[1;33m\u001b[0m\u001b[1;33m\u001b[0m\u001b[0m\n",
      "\u001b[1;31mFileNotFoundError\u001b[0m: [Errno 2] No such file or directory: '-f'"
     ]
    }
   ],
   "source": [
    "from sys import argv\n",
    "\n",
    "script, filename, _ = argv\n",
    "\n",
    "txt = open(filename)\n",
    "\n",
    "print(f\"Here's your txt file {filename}:\")\n",
    "print(txt.read())\n",
    "\n",
    "print(\"Type the filename again to open it:\")\n",
    "file_again = input(\"> \")\n",
    "\n",
    "txt_again = open(file_again)\n",
    "\n",
    "print(txt_again.read())"
   ]
  },
  {
   "cell_type": "markdown",
   "metadata": {},
   "source": [
    "## COMMENTS OR DESCRIPTION\n",
    "In this programm import a txt file from some place and shows the text that contain the file but in the output of the programm, first import the module sys and use the function argv to obtain the script name and the filename in the next\n",
    "\n",
    "P.D. In this case i don't now how to include the txt file that i create into the programm i think is because the programm only run in the kernel of the jupyter and i don't know how do that the argv get the file of my data, i try put in the direction of the file and the file in the folder of jupyter.\n",
    "This happens again in some of the next exercises."
   ]
  },
  {
   "cell_type": "markdown",
   "metadata": {},
   "source": [
    "<font color=\"red\"> <H1> EXERCISE 16 - Reading and Writing Files </H1> </font> \n",
    "<font color=\"blue\"> <H2> CODE </H2> </font>"
   ]
  },
  {
   "cell_type": "code",
   "execution_count": null,
   "metadata": {},
   "outputs": [
    {
     "name": "stdout",
     "output_type": "stream",
     "text": [
      "We're going to erase -f.\n",
      "If you don't want that, hit CTRL-C (^C).\n",
      "If you do want that, hit RETURN.\n"
     ]
    }
   ],
   "source": [
    "from sys import argv\n",
    "\n",
    "script, filename, _ = argv\n",
    "\n",
    "print(f\"We're going to erase {filename}.\")\n",
    "print(\"If you don't want that, hit CTRL-C (^C).\")\n",
    "print(\"If you do want that, hit RETURN.\")\n",
    "\n",
    "input(\"?\")\n",
    "\n",
    "print(\"Opening the file...\")\n",
    "target = open(filename, 'w')\n",
    "print(\"Truncating the file. Bye!\")\n",
    "target.truncate()\n",
    "\n",
    "print(\"Now I'm going to ask you for three lines where you put the text to introduce.\")\n",
    "\n",
    "line1 = input(\"line 1: \")\n",
    "line2 = input(\"line 2: \")\n",
    "line3 = input(\"line 3: \")\n",
    "\n",
    "print(\"I'm going to edit the file to write these text.\")\n",
    "\n",
    "target.write(line1)\n",
    "target.write(\"\\n\")\n",
    "target.write(line2)\n",
    "target.write(\"\\n\")\n",
    "target.write(line3)\n",
    "target.write(\"\\n\")\n",
    "\n",
    "(\"And finally, we close it.\")\n",
    "target.close()"
   ]
  },
  {
   "cell_type": "markdown",
   "metadata": {},
   "source": [
    "## COMMENTS OR DESCRIPTION"
   ]
  },
  {
   "cell_type": "markdown",
   "metadata": {},
   "source": [
    "This programm edits a txt file, use the functions of the previous program to import a txt file and answer about what do you want to write in the file, the programm answer about three lines where you put the text that you want to save there and finally close the file with the text that you add into the file."
   ]
  },
  {
   "cell_type": "markdown",
   "metadata": {},
   "source": [
    "<font color=\"red\"> <H1> EXERCISE 17 - More Files </H1> </font> \n",
    "<font color=\"blue\"> <H2> CODE </H2> </font>"
   ]
  },
  {
   "cell_type": "code",
   "execution_count": 1,
   "metadata": {},
   "outputs": [
    {
     "name": "stdout",
     "output_type": "stream",
     "text": [
      "Copying from -f to C:\\Users\\pumar\\AppData\\Roaming\\jupyter\\runtime\\kernel-1900f1b7-4a9b-4223-8933-cd8529b86f89.json\n"
     ]
    },
    {
     "ename": "FileNotFoundError",
     "evalue": "[Errno 2] No such file or directory: '-f'",
     "output_type": "error",
     "traceback": [
      "\u001b[1;31m---------------------------------------------------------------------------\u001b[0m",
      "\u001b[1;31mFileNotFoundError\u001b[0m                         Traceback (most recent call last)",
      "\u001b[1;32m<ipython-input-1-18255e65f24b>\u001b[0m in \u001b[0;36m<module>\u001b[1;34m\u001b[0m\n\u001b[0;32m      5\u001b[0m \u001b[1;33m\u001b[0m\u001b[0m\n\u001b[0;32m      6\u001b[0m \u001b[0mprint\u001b[0m\u001b[1;33m(\u001b[0m\u001b[1;34mf\"Copying from {from_file} to {to_file}\"\u001b[0m\u001b[1;33m)\u001b[0m\u001b[1;33m\u001b[0m\u001b[1;33m\u001b[0m\u001b[0m\n\u001b[1;32m----> 7\u001b[1;33m \u001b[0min_file\u001b[0m \u001b[1;33m=\u001b[0m \u001b[0mopen\u001b[0m\u001b[1;33m(\u001b[0m\u001b[0mfrom_file\u001b[0m\u001b[1;33m)\u001b[0m\u001b[1;33m\u001b[0m\u001b[1;33m\u001b[0m\u001b[0m\n\u001b[0m\u001b[0;32m      8\u001b[0m \u001b[0mindata\u001b[0m \u001b[1;33m=\u001b[0m \u001b[0min_file\u001b[0m\u001b[1;33m.\u001b[0m\u001b[0mread\u001b[0m\u001b[1;33m(\u001b[0m\u001b[1;33m)\u001b[0m\u001b[1;33m\u001b[0m\u001b[1;33m\u001b[0m\u001b[0m\n\u001b[0;32m      9\u001b[0m \u001b[1;33m\u001b[0m\u001b[0m\n",
      "\u001b[1;31mFileNotFoundError\u001b[0m: [Errno 2] No such file or directory: '-f'"
     ]
    }
   ],
   "source": [
    "from sys import argv\n",
    "from os.path import exists\n",
    "\n",
    "script, from_file, to_file = argv\n",
    "\n",
    "print(f\"Copying from {from_file} to {to_file}\")\n",
    "in_file = open(from_file)\n",
    "indata = in_file.read()\n",
    "\n",
    "print(f\"The input file is {len(indata)} bytes long\")\n",
    "\n",
    "print(f\"Does the output file exist? {exists(to_file)}\")\n",
    "print(\"Ready, hit RETURN to continue, CTRL-C to abort.\")\n",
    "input()\n",
    "\n",
    "out_file = open(to_file, 'w')\n",
    "out_file.write(indata)\n",
    "\n",
    "print(\"Alright, all done.\")\n",
    "\n",
    "out_file.close()\n",
    "in_file.close()"
   ]
  },
  {
   "cell_type": "markdown",
   "metadata": {},
   "source": [
    "## COMMENTS OR DESCRIPTION\n",
    "This programm search a file and check if this exist and how much this file have of lenth, the program use functions like \"len(indata)\" to obtain the length of the file and after that, print the length."
   ]
  },
  {
   "cell_type": "markdown",
   "metadata": {},
   "source": [
    " <font color=\"red\"> <H3> This is the exercises that i have to do, the others will be uploaded by my classmates </H3> </font> "
   ]
  }
 ],
 "metadata": {
  "kernelspec": {
   "display_name": "Python 3",
   "language": "python",
   "name": "python3"
  },
  "language_info": {
   "codemirror_mode": {
    "name": "ipython",
    "version": 3
   },
   "file_extension": ".py",
   "mimetype": "text/x-python",
   "name": "python",
   "nbconvert_exporter": "python",
   "pygments_lexer": "ipython3",
   "version": "3.7.4"
  }
 },
 "nbformat": 4,
 "nbformat_minor": 2
}
